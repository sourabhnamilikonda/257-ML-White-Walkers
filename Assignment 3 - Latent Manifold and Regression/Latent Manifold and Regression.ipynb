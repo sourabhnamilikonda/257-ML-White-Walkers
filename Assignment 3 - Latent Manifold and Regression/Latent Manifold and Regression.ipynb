{
 "cells": [
  {
   "cell_type": "markdown",
   "metadata": {
    "scrolled": true
   },
   "source": [
    "# Assignment 3: Latent Manifold and Regression\n",
    "\n",
    "## Team: White Walkers\n",
    "\n",
    "### Student Names:\n",
    "\n",
    "-  Pratik Dhumal (SJSU ID: 012457185)\n",
    "-  Sourabh Namilikonda (SJSU ID: 012414948)\n",
    "-  Hrishikesh Rendalkar (SJSU ID: 011485994)\n",
    "-  Hemambujam Veeraraghavan (SJSU ID: 012482392)\n",
    "\n",
    "\n",
    "#### Business Objective:\n",
    "Being software engineers, we develop a number of mobile applications. We wanted to get an insight on the kind of application that are present in the market and work towards an application that would be suitable and useful for the consumers. Hence we decided to gather data on the the available applications in the play store, and perform data analysis on these applications and the user reviews.\n",
    "\n",
    "#### Dataset:\n",
    "\n",
    "The Playstore dataset we have chosen for this assignment holds data with regards to user ratings, reviews, size, number of installs and the price of the applications. This dataset had ample data, with about 4000 sample data, which served to be useful for the K-Means clustering. \n",
    "\n",
    "#### Data Wrangling:\n",
    "Using data from the above-mentioned dataset, we converted data from a plain text format to a list of lists in Python, that can be used for our assignment purpose.\n",
    "\n",
    "#### Data Preparation:\n",
    "Using the NumPy library in python, the data was prepped and plotted into an image for the prepared dataset before performing K-means clustering, just to ensure we could choose the right K value.\n",
    " \n",
    "#### Data Interpretation:\n",
    "With the cleaned datset, We are trying to find correlation between the above mentioned fields on the dataset. this correleation  helped us to decide on the major facctors that plays a key role in its popularity. For instance, We have a category and genre feature which will help us identify the most popular apps in that category.\n",
    "We plan to combine this dataset with the user reviews data set to get the sentiment analysis for a particular app and compare with the number of installs.\n",
    "\n",
    "#### Future Enhancements:\n",
    "\n",
    "In Future, we want to compare the apps from this playstore(Google) to other playstores(Apple) to get app popularity among different platforms and devices"
   ]
  },
  {
   "cell_type": "code",
   "execution_count": 137,
   "metadata": {},
   "outputs": [
    {
     "name": "stdout",
     "output_type": "stream",
     "text": [
      "(10841, 13)\n"
     ]
    },
    {
     "data": {
      "text/html": [
       "<div>\n",
       "<style>\n",
       "    .dataframe thead tr:only-child th {\n",
       "        text-align: right;\n",
       "    }\n",
       "\n",
       "    .dataframe thead th {\n",
       "        text-align: left;\n",
       "    }\n",
       "\n",
       "    .dataframe tbody tr th {\n",
       "        vertical-align: top;\n",
       "    }\n",
       "</style>\n",
       "<table border=\"1\" class=\"dataframe\">\n",
       "  <thead>\n",
       "    <tr style=\"text-align: right;\">\n",
       "      <th></th>\n",
       "      <th>App</th>\n",
       "      <th>Category</th>\n",
       "      <th>Rating</th>\n",
       "      <th>Reviews</th>\n",
       "      <th>Size</th>\n",
       "      <th>Installs</th>\n",
       "      <th>Type</th>\n",
       "      <th>Price</th>\n",
       "      <th>Content Rating</th>\n",
       "      <th>Genres</th>\n",
       "      <th>Last Updated</th>\n",
       "      <th>Current Ver</th>\n",
       "      <th>Android Ver</th>\n",
       "    </tr>\n",
       "  </thead>\n",
       "  <tbody>\n",
       "    <tr>\n",
       "      <th>0</th>\n",
       "      <td>Photo Editor &amp; Candy Camera &amp; Grid &amp; ScrapBook</td>\n",
       "      <td>ART_AND_DESIGN</td>\n",
       "      <td>4.1</td>\n",
       "      <td>159</td>\n",
       "      <td>19M</td>\n",
       "      <td>10,000+</td>\n",
       "      <td>Free</td>\n",
       "      <td>0</td>\n",
       "      <td>Everyone</td>\n",
       "      <td>Art &amp; Design</td>\n",
       "      <td>07-Jan-18</td>\n",
       "      <td>1.0.0</td>\n",
       "      <td>4.0.3 and up</td>\n",
       "    </tr>\n",
       "    <tr>\n",
       "      <th>1</th>\n",
       "      <td>Coloring book moana</td>\n",
       "      <td>ART_AND_DESIGN</td>\n",
       "      <td>3.9</td>\n",
       "      <td>967</td>\n",
       "      <td>14M</td>\n",
       "      <td>500,000+</td>\n",
       "      <td>Free</td>\n",
       "      <td>0</td>\n",
       "      <td>Everyone</td>\n",
       "      <td>Art &amp; Design;Pretend Play</td>\n",
       "      <td>15-Jan-18</td>\n",
       "      <td>2.0.0</td>\n",
       "      <td>4.0.3 and up</td>\n",
       "    </tr>\n",
       "    <tr>\n",
       "      <th>2</th>\n",
       "      <td>U Launcher Lite – FREE Live Cool Themes, Hide ...</td>\n",
       "      <td>ART_AND_DESIGN</td>\n",
       "      <td>4.7</td>\n",
       "      <td>87510</td>\n",
       "      <td>8.7M</td>\n",
       "      <td>5,000,000+</td>\n",
       "      <td>Free</td>\n",
       "      <td>0</td>\n",
       "      <td>Everyone</td>\n",
       "      <td>Art &amp; Design</td>\n",
       "      <td>01-Aug-18</td>\n",
       "      <td>1.2.4</td>\n",
       "      <td>4.0.3 and up</td>\n",
       "    </tr>\n",
       "    <tr>\n",
       "      <th>3</th>\n",
       "      <td>Sketch - Draw &amp; Paint</td>\n",
       "      <td>ART_AND_DESIGN</td>\n",
       "      <td>4.5</td>\n",
       "      <td>215644</td>\n",
       "      <td>25M</td>\n",
       "      <td>50,000,000+</td>\n",
       "      <td>Free</td>\n",
       "      <td>0</td>\n",
       "      <td>Teen</td>\n",
       "      <td>Art &amp; Design</td>\n",
       "      <td>08-Jun-18</td>\n",
       "      <td>Varies with device</td>\n",
       "      <td>4.2 and up</td>\n",
       "    </tr>\n",
       "    <tr>\n",
       "      <th>4</th>\n",
       "      <td>Pixel Draw - Number Art Coloring Book</td>\n",
       "      <td>ART_AND_DESIGN</td>\n",
       "      <td>4.3</td>\n",
       "      <td>967</td>\n",
       "      <td>2.8M</td>\n",
       "      <td>100,000+</td>\n",
       "      <td>Free</td>\n",
       "      <td>0</td>\n",
       "      <td>Everyone</td>\n",
       "      <td>Art &amp; Design;Creativity</td>\n",
       "      <td>20-Jun-18</td>\n",
       "      <td>1.1</td>\n",
       "      <td>4.4 and up</td>\n",
       "    </tr>\n",
       "  </tbody>\n",
       "</table>\n",
       "</div>"
      ],
      "text/plain": [
       "                                                 App        Category  Rating  \\\n",
       "0     Photo Editor & Candy Camera & Grid & ScrapBook  ART_AND_DESIGN     4.1   \n",
       "1                                Coloring book moana  ART_AND_DESIGN     3.9   \n",
       "2  U Launcher Lite – FREE Live Cool Themes, Hide ...  ART_AND_DESIGN     4.7   \n",
       "3                              Sketch - Draw & Paint  ART_AND_DESIGN     4.5   \n",
       "4              Pixel Draw - Number Art Coloring Book  ART_AND_DESIGN     4.3   \n",
       "\n",
       "   Reviews  Size     Installs  Type Price Content Rating  \\\n",
       "0      159   19M      10,000+  Free     0       Everyone   \n",
       "1      967   14M     500,000+  Free     0       Everyone   \n",
       "2    87510  8.7M   5,000,000+  Free     0       Everyone   \n",
       "3   215644   25M  50,000,000+  Free     0           Teen   \n",
       "4      967  2.8M     100,000+  Free     0       Everyone   \n",
       "\n",
       "                      Genres Last Updated         Current Ver   Android Ver  \n",
       "0               Art & Design    07-Jan-18               1.0.0  4.0.3 and up  \n",
       "1  Art & Design;Pretend Play    15-Jan-18               2.0.0  4.0.3 and up  \n",
       "2               Art & Design    01-Aug-18               1.2.4  4.0.3 and up  \n",
       "3               Art & Design    08-Jun-18  Varies with device    4.2 and up  \n",
       "4    Art & Design;Creativity    20-Jun-18                 1.1    4.4 and up  "
      ]
     },
     "execution_count": 137,
     "metadata": {},
     "output_type": "execute_result"
    }
   ],
   "source": [
    "%matplotlib inline\n",
    "import os\n",
    "import numpy as np\n",
    "import pandas as pd\n",
    "import matplotlib.pyplot as plt\n",
    "plt.rcParams['figure.figsize']=(20.0, 10.0)\n",
    "os.chdir(\"N:\\\\\")\n",
    "data = pd.read_csv(\"googleplaystore.csv\")\n",
    "#data = pd.read_excel('12febtvt.xls', sheetname='Page 2')\n",
    "#data=pd.read_csv('https://gist.githubusercontent.com/curran/a08a1080b88344b0c8a7/raw/d546eaee765268bf2f487608c537c05e22e4b221/iris.csv')\n",
    "print(data.shape)\n",
    "data.head()"
   ]
  },
  {
   "cell_type": "markdown",
   "metadata": {},
   "source": [
    "#### The above output displays the dataset from a local csv file that we downloaded and describing the structure of the dataset"
   ]
  },
  {
   "cell_type": "code",
   "execution_count": 138,
   "metadata": {},
   "outputs": [],
   "source": [
    "#data purification\n",
    "data['Rating'].fillna(0, inplace = True)\n",
    "\n",
    "def purify_rating(X):\n",
    "    for ind,s in enumerate(X):\n",
    "        if s>5:\n",
    "            print(ind, s)\n",
    "            X[ind]=s/10\n",
    "    return X\n",
    "\n",
    "def purify_price(s):\n",
    "    s=s.replace(\"Everyone\",\"0\")\n",
    "    return s.replace(\"$\",\"\")\n",
    "\n",
    "def purify_installs(s):\n",
    "    s=s.replace(\"+\",\"\")\n",
    "    s=s.replace(\"Free\",\"0\")\n",
    "    return s.replace(\",\",\"\")\n",
    "\n",
    "def purify_size(s):\n",
    "    s=s.replace(\",\",\"\")\n",
    "    s=s.replace(\"+\",\"\")\n",
    "    s=s.replace(\"M\",\"\")\n",
    "    s=s.replace(\"k\",\"\")\n",
    "    return s.replace(\"Varies with device\",\"0\")"
   ]
  },
  {
   "cell_type": "markdown",
   "metadata": {},
   "source": [
    "#### Here we are preparing the data by:\n",
    "- Manual analysis of dataset\n",
    "- Removal of NaN values and replacing by a mean default value\n",
    "- Next defining functions for removal of outlier data and symbols to get numeric features"
   ]
  },
  {
   "cell_type": "code",
   "execution_count": 139,
   "metadata": {},
   "outputs": [
    {
     "name": "stdout",
     "output_type": "stream",
     "text": [
      "4751680.03865 -1745830.82948\n",
      "6.0 -1.0\n"
     ]
    },
    {
     "data": {
      "image/png": "[encoded data removed]",
      "text/plain": [
       "<matplotlib.figure.Figure at 0x2c6b4d82588>"
      ]
     },
     "metadata": {},
     "output_type": "display_data"
    }
   ],
   "source": [
    "X = data['Rating'].values\n",
    "Y = data['Installs'].values\n",
    "\n",
    "X = purify_rating(X)\n",
    "X = list(map(float, X))\n",
    "Y = [purify_installs(s) for s in Y]\n",
    "Y = list(map(float, Y))\n",
    "\n",
    "# linear regression algorithm\n",
    "mean_x=np.mean(X)\n",
    "mean_y=np.mean(Y)\n",
    "n=len(X)\n",
    "number=0\n",
    "denom=0\n",
    "for i in range(n):\n",
    "    number+=(X[i]-mean_x)*(Y[i]-mean_y)\n",
    "    denom+=(X[i]-mean_x)**2\n",
    "b1=number/denom\n",
    "b0=mean_y-(b1*mean_x)\n",
    "\n",
    "#printing slope and coefficient\n",
    "print(b1,b0)\n",
    "max_x=np.max(X)+1\n",
    "min_x=np.min(X)-1\n",
    "print(max_x,min_x)\n",
    "x=np.linspace(min_x,max_x,100)\n",
    "y=b0+b1*x\n",
    "\n",
    "#plotting the linear regression line and the actual data points\n",
    "plt.plot(x,y,color='#58b970',label='Regression line')\n",
    "plt.scatter(X,Y,c='#ef5423',label='Scatter Plot')\n",
    "plt.legend()\n",
    "plt.show()"
   ]
  },
  {
   "cell_type": "markdown",
   "metadata": {},
   "source": [
    "#### Now we select individual columns, purify them and use the manual algorithm to plot the graph along with its linear regression\n",
    "##### Plotting Application Rating vs No of Installs"
   ]
  },
  {
   "cell_type": "code",
   "execution_count": 140,
   "metadata": {},
   "outputs": [
    {
     "name": "stdout",
     "output_type": "stream",
     "text": [
      "0.00716443291625\n"
     ]
    }
   ],
   "source": [
    "#manually finding the r2 score\n",
    "ss_t=0\n",
    "ss_r=0\n",
    "for i in range(n):\n",
    "    y_pred=b0+b1*X[i]\n",
    "    ss_t+=(Y[i]-mean_y)**2\n",
    "    ss_r+=(Y[i]-y_pred)**2\n",
    "r2=1-(ss_r/ss_t)\n",
    "print(r2)\n",
    "\n",
    "#comparing manual score with sklearn library to verify\n",
    "from sklearn.linear_model import LinearRegression\n",
    "from sklearn.metrics import mean_squared_error\n",
    "X = np.array(X)\n",
    "X = X.reshape((n, 1))\n",
    "reg=LinearRegression()\n",
    "reg=reg.fit(X,Y)\n",
    "Y_pred=reg.predict(X)\n",
    "r2_score=reg.score(X,Y)\n",
    "print(r2_score)"
   ]
  },
  {
   "cell_type": "markdown",
   "metadata": {
    "collapsed": true
   },
   "source": [
    "##### Plotting Application Price vs No of Installs"
   ]
  },
  {
   "cell_type": "code",
   "execution_count": 142,
   "metadata": {},
   "outputs": [
    {
     "name": "stdout",
     "output_type": "stream",
     "text": [
      "-62311.8759352 15526923.8342\n",
      "-62311.8759352 15526923.8342\n",
      "401.0 -1.0\n"
     ]
    },
    {
     "data": {
      "image/png": "[encoded data removed]",
      "text/plain": [
       "<matplotlib.figure.Figure at 0x2c6b4ce8da0>"
      ]
     },
     "metadata": {},
     "output_type": "display_data"
    }
   ],
   "source": [
    "X = data['Price'].values\n",
    "Y = data['Installs'].values\n",
    "\n",
    "X = [purify_price(s) for s in X]\n",
    "X = list(map(float, X))\n",
    "Y = [purify_installs(s) for s in Y]\n",
    "Y = list(map(float, Y))\n",
    "\n",
    "# linear regression algorithm\n",
    "mean_x=np.mean(X)\n",
    "mean_y=np.mean(Y)\n",
    "n=len(X)\n",
    "number=0\n",
    "denom=0\n",
    "for i in range(n):\n",
    "    number+=(X[i]-mean_x)*(Y[i]-mean_y)\n",
    "    denom+=(X[i]-mean_x)**2\n",
    "b1=number/denom\n",
    "b0=mean_y-(b1*mean_x)\n",
    "\n",
    "#printing slope and coefficient\n",
    "print(b1,b0)\n",
    "\n",
    "#printing slope and coefficient\n",
    "print(b1,b0)\n",
    "max_x=np.max(X)+1\n",
    "min_x=np.min(X)-1\n",
    "print(max_x,min_x)\n",
    "x=np.linspace(min_x,max_x,100)\n",
    "y=b0+b1*x\n",
    "\n",
    "#plotting the linear regression line and the actual data points\n",
    "plt.plot(x,y,color='#58b970',label='Regression line')\n",
    "plt.scatter(X,Y,c='#ef5423',label='Scatter Plot')\n",
    "plt.legend()\n",
    "plt.show()"
   ]
  },
  {
   "cell_type": "code",
   "execution_count": 146,
   "metadata": {},
   "outputs": [
    {
     "name": "stdout",
     "output_type": "stream",
     "text": [
      "0.000683038969024\n",
      "0.000683038968991\n"
     ]
    }
   ],
   "source": [
    "#manually finding the r2 score\n",
    "ss_t=0\n",
    "ss_r=0\n",
    "for i in range(n):\n",
    "    y_pred=b0+b1*X[i]\n",
    "    ss_t+=(Y[i]-mean_y)**2\n",
    "    ss_r+=(Y[i]-y_pred)**2\n",
    "r2=1-(ss_r/ss_t)\n",
    "print(r2)\n",
    "#comparing manual score with sklearn library to verify\n",
    "from sklearn.linear_model import LinearRegression\n",
    "from sklearn.metrics import mean_squared_error\n",
    "X = np.array(X)\n",
    "X=X.reshape((n,1))\n",
    "reg=LinearRegression()\n",
    "reg=reg.fit(X,Y)\n",
    "Y_pred=reg.predict(X)\n",
    "r2_score=reg.score(X,Y)\n",
    "print(r2_score)"
   ]
  },
  {
   "cell_type": "markdown",
   "metadata": {},
   "source": [
    "##### Plotting Application Size vs No of Installs"
   ]
  },
  {
   "cell_type": "code",
   "execution_count": 145,
   "metadata": {},
   "outputs": [
    {
     "name": "stdout",
     "output_type": "stream",
     "text": [
      "-24205.991622 16219150.6892\n",
      "-24205.991622 16219150.6892\n",
      "1021.0 -1.0\n"
     ]
    },
    {
     "data": {
      "image/png": "[encoded data removed]",
      "text/plain": [
       "<matplotlib.figure.Figure at 0x2c6b4c4df98>"
      ]
     },
     "metadata": {},
     "output_type": "display_data"
    }
   ],
   "source": [
    "X = data['Size'].values\n",
    "Y = data['Installs'].values\n",
    "\n",
    "X = [purify_size(s) for s in X]\n",
    "X = list(map(float, X))\n",
    "Y = [purify_installs(s) for s in Y]\n",
    "Y = list(map(float, Y))\n",
    "\n",
    "# linear regression algorithm\n",
    "mean_x=np.mean(X)\n",
    "mean_y=np.mean(Y)\n",
    "n=len(X)\n",
    "number=0\n",
    "denom=0\n",
    "for i in range(n):\n",
    "    number+=(X[i]-mean_x)*(Y[i]-mean_y)\n",
    "    denom+=(X[i]-mean_x)**2\n",
    "b1=number/denom\n",
    "b0=mean_y-(b1*mean_x)\n",
    "\n",
    "#printing slope and coefficient\n",
    "print(b1,b0)\n",
    "\n",
    "#printing slope and coefficient\n",
    "print(b1,b0)\n",
    "max_x=np.max(X)+1\n",
    "min_x=np.min(X)-1\n",
    "print(max_x,min_x)\n",
    "x=np.linspace(min_x,max_x,100)\n",
    "y=b0+b1*x\n",
    "\n",
    "#plotting the linear regression line and the actual data points\n",
    "plt.plot(x,y,color='#58b970',label='Regression line')\n",
    "plt.scatter(X,Y,c='#ef5423',label='Scatter Plot')\n",
    "plt.legend()\n",
    "plt.show()"
   ]
  },
  {
   "cell_type": "code",
   "execution_count": 147,
   "metadata": {},
   "outputs": [
    {
     "name": "stdout",
     "output_type": "stream",
     "text": [
      "[ 0.00068304]\n",
      "0.000683038968991\n"
     ]
    }
   ],
   "source": [
    "#manually finding the r2 score\n",
    "ss_t=0\n",
    "ss_r=0\n",
    "for i in range(n):\n",
    "    y_pred=b0+b1*X[i]\n",
    "    ss_t+=(Y[i]-mean_y)**2\n",
    "    ss_r+=(Y[i]-y_pred)**2\n",
    "r2=1-(ss_r/ss_t)\n",
    "print(r2)\n",
    "\n",
    "#comparing manual score with sklearn library to verify\n",
    "from sklearn.linear_model import LinearRegression\n",
    "from sklearn.metrics import mean_squared_error\n",
    "X = np.array(X)\n",
    "X = X.reshape((n, 1))\n",
    "reg=LinearRegression()\n",
    "reg=reg.fit(X,Y)\n",
    "Y_pred=reg.predict(X)\n",
    "r2_score=reg.score(X,Y)\n",
    "print(r2_score)"
   ]
  },
  {
   "cell_type": "markdown",
   "metadata": {},
   "source": [
    "### Observations:\n",
    "- We observed that the application size and price were inversely proportional to number of installs\n",
    "- For latent manifold, we use size, price as inverses and in combination with sentiment analysis to predict the number of installs and further the popularity of the app.\n",
    "- We can also think of the category as latent variable as apps in some categories will be installed more frequetly than the other.\n",
    "- Words in customer reviews can also be a important factor in determinig the popularity."
   ]
  }
 ],
 "metadata": {
  "kernelspec": {
   "display_name": "Python 3",
   "language": "python",
   "name": "python3"
  },
  "language_info": {
   "codemirror_mode": {
    "name": "ipython",
    "version": 3
   },
   "file_extension": ".py",
   "mimetype": "text/x-python",
   "name": "python",
   "nbconvert_exporter": "python",
   "pygments_lexer": "ipython3",
   "version": "3.6.5"
  }
 },
 "nbformat": 4,
 "nbformat_minor": 2
}
