{
 "cells": [
  {
   "cell_type": "code",
   "execution_count": 20,
   "metadata": {},
   "outputs": [
    {
     "name": "stdout",
     "output_type": "stream",
     "text": [
      "3\n",
      "[ 23 123  35]\n",
      "[[ 2.  6.]\n",
      " [ 6.  1.]\n",
      " [ 4.  3.]]\n",
      "[[ 4.22115385  8.27884615]\n",
      " [ 5.36842105  1.10526316]\n",
      " [ 2.14084507  2.16901408]]\n"
     ]
    },
    {
     "data": {
      "image/png": "[encoded data removed]",
      "text/plain": [
       "<matplotlib.figure.Figure at 0x23aa75a03c8>"
      ]
     },
     "metadata": {},
     "output_type": "display_data"
    }
   ],
   "source": [
    "from sklearn.metrics import pairwise_distances_argmin\n",
    "#%matplotlib inline\n",
    "#import matplotlib.pyplot as plt\n",
    "#import seaborn as sns; sns.set()  # for plot styling\n",
    "#import numpy as np\n",
    "\n",
    "#from sklearn.datasets.samples_generator import make_blobs\n",
    "#X, y_true = make_blobs(n_samples=300, centers=4, cluster_std=0.60, random_state=0)\n",
    "#print(X)\n",
    "\n",
    "import urllib.request\n",
    "import matplotlib.pyplot as mp\n",
    "with urllib.request.urlopen(\"https://archive.ics.uci.edu/ml/machine-learning-databases/flags/flag.data\") as url:\n",
    "    s = url.read()\n",
    "    s = s.decode(\"utf-8\")\n",
    "    rows = s.splitlines()\n",
    "    table = []\n",
    "    for i in rows:\n",
    "        row = (i.split(','))\n",
    "        #print (row)\n",
    "        table.append(row)\n",
    "    #print(table)   \n",
    "    table1 = np.array(table)\n",
    "    table2=table1[:,[1,5]]\n",
    "    #print(table1[:,[1,5]])\n",
    "    #print(table2)\n",
    "    table3=[[float(y) for y in x] for x in table2]\n",
    "    table4=np.array(table3)\n",
    "    #print(table4)\n",
    "    \n",
    "def find_clusters(X, n_clusters, rseed=2):\n",
    "    print(n_clusters)\n",
    "    # 1. Randomly choose clusters\n",
    "    rng = np.random.RandomState(rseed)\n",
    "    i = rng.permutation(X.shape[0])[:n_clusters]\n",
    "    print(i)\n",
    "    centers = X[i]\n",
    "    print(centers)\n",
    "    while True:\n",
    "        # 2a. Assign labels based on closest center\n",
    "        labels = pairwise_distances_argmin(X, centers)\n",
    "        #print(labels)\n",
    "        \n",
    "        # 2b. Find new centers from means of points\n",
    "        new_centers = np.array([X[labels == i].mean(0) for i in range(n_clusters)])\n",
    "        #print(new_centers)    \n",
    "        # 2c. Check for convergence\n",
    "        if np.all(centers == new_centers):\n",
    "            break\n",
    "        centers = new_centers\n",
    "    \n",
    "    return centers, labels\n",
    "centers, labels = find_clusters(table4, 3)\n",
    "print(centers)\n",
    "plt.scatter(table4[:, 0], table4[:, 1], c=labels, s=50,  cmap='viridis');\n",
    "\n"
   ]
  },
  {
   "cell_type": "code",
   "execution_count": 27,
   "metadata": {},
   "outputs": [
    {
     "data": {
      "image/png": "[encoded data removed]",
      "text/plain": [
       "<matplotlib.figure.Figure at 0x23aa851c6d8>"
      ]
     },
     "metadata": {},
     "output_type": "display_data"
    }
   ],
   "source": [
    "\n",
    "%matplotlib inline\n",
    "import matplotlib.pyplot as plt\n",
    "import seaborn as sns; sns.set()  # for plot styling\n",
    "import numpy as np\n",
    "\n",
    "import urllib.request\n",
    "import matplotlib.pyplot as mp\n",
    "with urllib.request.urlopen(\"https://archive.ics.uci.edu/ml/machine-learning-databases/flags/flag.data\") as url:\n",
    "    s = url.read()\n",
    "    s = s.decode(\"utf-8\")\n",
    "    rows = s.splitlines()\n",
    "    table = []\n",
    "    for i in rows:\n",
    "        row = (i.split(','))\n",
    "        #print (row)\n",
    "        table.append(row)\n",
    "    #print(table)   \n",
    "    table1 = np.array(table)\n",
    "    table2=table1[:,[1,6]]\n",
    "    #print(table1[:,[1,6]])\n",
    "    #print(table2)\n",
    "    table3=[[float(y) for y in x] for x in table2]\n",
    "    table4=np.array(table3)\n",
    "    X=table4\n",
    "\n",
    "    #from sklearn.datasets.samples_generator import make_blobs\n",
    "    #X, y_true = make_blobs(n_samples=300, centers=4, cluster_std=0.60, random_state=0)\n",
    "    #plt.scatter(X[:, 0], X[:, 1], s=50);\n",
    "\n",
    "    from sklearn.cluster import KMeans\n",
    "    kmeans = KMeans(n_clusters=4)\n",
    "    kmeans.fit(X)\n",
    "    y_kmeans = kmeans.predict(X)\n",
    "    plt.scatter(X[:, 0], X[:, 1])\n",
    "    #plt.scatter(X[:, 0], X[:, 1], c=y_kmeans, s=50, cmap='viridis')\n",
    "\n",
    "    #centers = kmeans.cluster_centers_\n",
    "    #plt.scatter(centers[:, 0], centers[:, 1], c='black', s=200, alpha=0.5);\n"
   ]
  },
  {
   "cell_type": "code",
   "execution_count": null,
   "metadata": {
    "collapsed": true
   },
   "outputs": [],
   "source": [
    "%matplotlib inline\n",
    "import matplotlib.pyplot as plt\n",
    "import seaborn as sns; sns.set()  # for plot styling\n",
    "import numpy as np\n",
    "\n",
    "import urllib.request\n",
    "import matplotlib.pyplot as mp\n",
    "with urllib.request.urlopen(\"https://archive.ics.uci.edu/ml/machine-learning-databases/flags/flag.data\") as url:\n",
    "    s = url.read()\n",
    "    s = s.decode(\"utf-8\")\n",
    "    rows = s.splitlines()\n",
    "    table = []\n",
    "    for i in rows:\n",
    "        row = (i.split(','))\n",
    "        #print (row)\n",
    "        table.append(row)\n",
    "    #print(table)   \n",
    "    table1 = np.array(table)"
   ]
  },
  {
   "cell_type": "code",
   "execution_count": null,
   "metadata": {
    "collapsed": true
   },
   "outputs": [],
   "source": []
  },
  {
   "cell_type": "code",
   "execution_count": null,
   "metadata": {
    "collapsed": true
   },
   "outputs": [],
   "source": []
  }
 ],
 "metadata": {
  "kernelspec": {
   "display_name": "Python 3",
   "language": "python",
   "name": "python3"
  }
 },
 "nbformat": 4,
 "nbformat_minor": 2
}
